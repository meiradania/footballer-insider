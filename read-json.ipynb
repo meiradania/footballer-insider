{
 "cells": [
  {
   "cell_type": "markdown",
   "id": "852b5061-3248-4878-adcd-c36d5da971c4",
   "metadata": {},
   "source": [
    "Reading JSON file into a python list\n",
    "- only the 'summary'"
   ]
  },
  {
   "cell_type": "code",
   "execution_count": 1,
   "id": "84637b14-d71b-47f7-88a2-887684f55a22",
   "metadata": {},
   "outputs": [
    {
     "name": "stdout",
     "output_type": "stream",
     "text": [
      "Found 1 json documents in folder data/\n",
      "Loaded 1 summary text from wikipedia\n"
     ]
    }
   ],
   "source": [
    "import os\n",
    "import json\n",
    "\n",
    "def read_json_files_in_folder(folder_path):\n",
    "    json_data = []\n",
    "    print(f\"Found {len([f for f in os.listdir('data/') if f.endswith('.json')])} json documents in folder {folder_path}\")\n",
    "    for file_name in os.listdir(folder_path):\n",
    "        if file_name.endswith('.json'):\n",
    "            file_path = os.path.join(folder_path, file_name)\n",
    "            with open(file_path, 'r') as file:\n",
    "                data = json.load(file)\n",
    "                json_data.append(data)\n",
    "    return json_data\n",
    "\n",
    "\n",
    "folder_path = 'data/'\n",
    "json_files_data = read_json_files_in_folder(folder_path)\n",
    "\n",
    "text = [data['summary'] for data in json_files_data]\n",
    "print(f\"Loaded {len(text)} summary text from wikipedia\")"
   ]
  },
  {
   "cell_type": "code",
   "execution_count": 2,
   "id": "dc5b564e-1976-4c3e-8137-9f4be5825086",
   "metadata": {},
   "outputs": [
    {
     "data": {
      "text/plain": [
       "['Futbol Club Barcelona (Catalan pronunciation: [fubËˆbÉ”l Ëˆklub bÉ™É¾sÉ™ËˆlonÉ™] (listen)), commonly referred to as Barcelona and colloquially known as BarÃ§a ([ËˆbaÉ¾sÉ™]), is a professional football club based in Barcelona, Catalonia, Spain, that competes in La Liga, the top flight of Spanish football.\\nFounded in 1899 by a group of Swiss, Catalan, German, and English footballers led by Joan Gamper, the club has become a symbol of Catalan culture and Catalanism, hence the motto \"MÃ©s que un club\" (\"More than a club\"). Unlike many other football clubs, the supporters own and operate Barcelona. It is the third-most valuable sports team in the world, worth $5.51 billion, and the world\\\\\\'s fourth richest football club in terms of revenue, with an annual turnover of â‚¬582.1 million. The official Barcelona anthem is the \"Cant del BarÃ§a\", written by Jaume Picas and Josep Maria EspinÃ\\xa0s. Barcelona traditionally play in dark shades of blue and garnet stripes, hence nicknamed Blaugrana.\\nDomestically, Barcelona has won a record 77 trophies: 27 La Liga, 31 Copa del Rey, 14 Supercopa de EspaÃ±a, three Copa Eva Duarte, and two Copa de la Liga titles, as well as being the record holder for the latter four competitions. In international club football, the club has won 22 European and worldwide titles: five UEFA Champions League titles, a record four UEFA Cup Winners\\\\\\' Cups, a joint record five UEFA Super Cups, a record three Inter-Cities Fairs Cups, a joint record two Latin Cups, and three FIFA Club World Cups. Barcelona was ranked first in the International Federation of Football History & Statistics Club World Ranking for 1997, 2009, 2011, 2012 and 2015, and occupies the ninth position on the UEFA club rankings as of May 2023. The club has a long-standing rivalry with Real Madrid, and matches between the two teams are referred to as El ClÃ¡sico.\\nBarcelona is one of the most widely supported teams in the world, and the club has one of the largest social media following in the world among sports teams. Barcelona players have won a record twelve Ballon d\\\\\\'Or awards, with recipients including Johan Cruyff, as well as a record seven FIFA World Player of the Year awards, with winners including RomÃ¡rio, Ronaldo, Rivaldo and Ronaldinho. In 2010, three players who came through the club\\\\\\'s youth academy (Lionel Messi, AndrÃ©s Iniesta and Xavi) were chosen as the three best players in the world in the FIFA Ballon d\\\\\\'Or awards, an unprecedented feat for players from the same football academy. Additionally, players representing the club have won a record eight European Golden Shoe awards.\\nBarcelona is one of three founding members of the Primera DivisiÃ³n that have never been relegated from the top division since its inception in 1929, along with Athletic Bilbao and Real Madrid. In 2009, Barcelona became the first Spanish club to win the continental treble consisting of La Liga, Copa del Rey, and the UEFA Champions League, and also became the first Spanish football club to win six out of six competitions in a single year, by also winning the Spanish Super Cup, UEFA Super Cup, and FIFA Club World Cup. In 2011, the club became European champions again, winning five trophies. This Barcelona team, which won fourteen trophies in just four years under Pep Guardiola, is considered by some in the sport to be the greatest team of all time. By winning their fifth Champions League trophy in 2015 under Luis Enrique, Barcelona became the first European football club in history to achieve the continental treble twice.']"
      ]
     },
     "execution_count": 2,
     "metadata": {},
     "output_type": "execute_result"
    }
   ],
   "source": [
    "text"
   ]
  },
  {
   "cell_type": "markdown",
   "id": "b43bb705-8f03-448d-b7b3-6dbca4493518",
   "metadata": {},
   "source": [
    "Reading JSON file into a Langchain Document\n",
    "- only the 'summary'\n",
    "- this will allow to use the Transformation into sequences from the same Langchain package"
   ]
  },
  {
   "cell_type": "code",
   "execution_count": 35,
   "id": "330c08cd-37cf-43f7-87e7-fef511df05f1",
   "metadata": {
    "collapsed": true,
    "jupyter": {
     "outputs_hidden": true
    },
    "scrolled": true
   },
   "outputs": [
    {
     "name": "stdout",
     "output_type": "stream",
     "text": [
      "Collecting langchain\n",
      "  Downloading langchain-0.0.232-py3-none-any.whl (1.3 MB)\n",
      "     ---------------------------------------- 1.3/1.3 MB 2.5 MB/s eta 0:00:00\n",
      "Requirement already satisfied: PyYAML>=5.4.1 in c:\\users\\meira\\anaconda3\\envs\\hug\\lib\\site-packages (from langchain) (6.0)\n",
      "Collecting SQLAlchemy<3,>=1.4 (from langchain)\n",
      "  Downloading SQLAlchemy-2.0.18-cp310-cp310-win_amd64.whl (2.0 MB)\n",
      "     ---------------------------------------- 2.0/2.0 MB 8.5 MB/s eta 0:00:00\n",
      "Requirement already satisfied: aiohttp<4.0.0,>=3.8.3 in c:\\users\\meira\\anaconda3\\envs\\hug\\lib\\site-packages (from langchain) (3.8.3)\n",
      "Requirement already satisfied: async-timeout<5.0.0,>=4.0.0 in c:\\users\\meira\\anaconda3\\envs\\hug\\lib\\site-packages (from langchain) (4.0.2)\n",
      "Collecting dataclasses-json<0.6.0,>=0.5.7 (from langchain)\n",
      "  Downloading dataclasses_json-0.5.9-py3-none-any.whl (26 kB)\n",
      "Collecting langsmith<0.0.6,>=0.0.5 (from langchain)\n",
      "  Downloading langsmith-0.0.5-py3-none-any.whl (25 kB)\n",
      "Requirement already satisfied: numexpr<3.0.0,>=2.8.4 in c:\\users\\meira\\anaconda3\\envs\\hug\\lib\\site-packages (from langchain) (2.8.4)\n",
      "Requirement already satisfied: numpy<2,>=1 in c:\\users\\meira\\anaconda3\\envs\\hug\\lib\\site-packages (from langchain) (1.25.0)\n",
      "Collecting openapi-schema-pydantic<2.0,>=1.2 (from langchain)\n",
      "  Downloading openapi_schema_pydantic-1.2.4-py3-none-any.whl (90 kB)\n",
      "     ---------------------------------------- 90.0/90.0 kB 5.3 MB/s eta 0:00:00\n",
      "Collecting pydantic<2,>=1 (from langchain)\n",
      "  Downloading pydantic-1.10.11-cp310-cp310-win_amd64.whl (2.1 MB)\n",
      "     ---------------------------------------- 2.1/2.1 MB 8.5 MB/s eta 0:00:00\n",
      "Requirement already satisfied: requests<3,>=2 in c:\\users\\meira\\anaconda3\\envs\\hug\\lib\\site-packages (from langchain) (2.29.0)\n",
      "Collecting tenacity<9.0.0,>=8.1.0 (from langchain)\n",
      "  Downloading tenacity-8.2.2-py3-none-any.whl (24 kB)\n",
      "Requirement already satisfied: attrs>=17.3.0 in c:\\users\\meira\\anaconda3\\envs\\hug\\lib\\site-packages (from aiohttp<4.0.0,>=3.8.3->langchain) (22.1.0)\n",
      "Requirement already satisfied: charset-normalizer<3.0,>=2.0 in c:\\users\\meira\\anaconda3\\envs\\hug\\lib\\site-packages (from aiohttp<4.0.0,>=3.8.3->langchain) (2.0.4)\n",
      "Requirement already satisfied: multidict<7.0,>=4.5 in c:\\users\\meira\\anaconda3\\envs\\hug\\lib\\site-packages (from aiohttp<4.0.0,>=3.8.3->langchain) (6.0.2)\n",
      "Requirement already satisfied: yarl<2.0,>=1.0 in c:\\users\\meira\\anaconda3\\envs\\hug\\lib\\site-packages (from aiohttp<4.0.0,>=3.8.3->langchain) (1.8.1)\n",
      "Requirement already satisfied: frozenlist>=1.1.1 in c:\\users\\meira\\anaconda3\\envs\\hug\\lib\\site-packages (from aiohttp<4.0.0,>=3.8.3->langchain) (1.3.3)\n",
      "Requirement already satisfied: aiosignal>=1.1.2 in c:\\users\\meira\\anaconda3\\envs\\hug\\lib\\site-packages (from aiohttp<4.0.0,>=3.8.3->langchain) (1.2.0)\n",
      "Collecting marshmallow<4.0.0,>=3.3.0 (from dataclasses-json<0.6.0,>=0.5.7->langchain)\n",
      "  Downloading marshmallow-3.19.0-py3-none-any.whl (49 kB)\n",
      "     ---------------------------------------- 49.1/49.1 kB ? eta 0:00:00\n",
      "Collecting marshmallow-enum<2.0.0,>=1.5.1 (from dataclasses-json<0.6.0,>=0.5.7->langchain)\n",
      "  Downloading marshmallow_enum-1.5.1-py2.py3-none-any.whl (4.2 kB)\n",
      "Collecting typing-inspect>=0.4.0 (from dataclasses-json<0.6.0,>=0.5.7->langchain)\n",
      "  Downloading typing_inspect-0.9.0-py3-none-any.whl (8.8 kB)\n",
      "Requirement already satisfied: typing-extensions>=4.2.0 in c:\\users\\meira\\anaconda3\\envs\\hug\\lib\\site-packages (from pydantic<2,>=1->langchain) (4.6.3)\n",
      "Requirement already satisfied: idna<4,>=2.5 in c:\\users\\meira\\anaconda3\\envs\\hug\\lib\\site-packages (from requests<3,>=2->langchain) (3.4)\n",
      "Requirement already satisfied: urllib3<1.27,>=1.21.1 in c:\\users\\meira\\anaconda3\\envs\\hug\\lib\\site-packages (from requests<3,>=2->langchain) (1.26.16)\n",
      "Requirement already satisfied: certifi>=2017.4.17 in c:\\users\\meira\\anaconda3\\envs\\hug\\lib\\site-packages (from requests<3,>=2->langchain) (2023.5.7)\n",
      "Collecting greenlet!=0.4.17 (from SQLAlchemy<3,>=1.4->langchain)\n",
      "  Downloading greenlet-2.0.2-cp310-cp310-win_amd64.whl (192 kB)\n",
      "     -------------------------------------- 192.2/192.2 kB 5.9 MB/s eta 0:00:00\n",
      "Requirement already satisfied: packaging>=17.0 in c:\\users\\meira\\anaconda3\\envs\\hug\\lib\\site-packages (from marshmallow<4.0.0,>=3.3.0->dataclasses-json<0.6.0,>=0.5.7->langchain) (23.0)\n",
      "Collecting mypy-extensions>=0.3.0 (from typing-inspect>=0.4.0->dataclasses-json<0.6.0,>=0.5.7->langchain)\n",
      "  Downloading mypy_extensions-1.0.0-py3-none-any.whl (4.7 kB)\n",
      "Installing collected packages: tenacity, pydantic, mypy-extensions, marshmallow, greenlet, typing-inspect, SQLAlchemy, openapi-schema-pydantic, marshmallow-enum, langsmith, dataclasses-json, langchain\n",
      "Successfully installed SQLAlchemy-2.0.18 dataclasses-json-0.5.9 greenlet-2.0.2 langchain-0.0.232 langsmith-0.0.5 marshmallow-3.19.0 marshmallow-enum-1.5.1 mypy-extensions-1.0.0 openapi-schema-pydantic-1.2.4 pydantic-1.10.11 tenacity-8.2.2 typing-inspect-0.9.0\n"
     ]
    }
   ],
   "source": [
    "#!pip install langchain"
   ]
  },
  {
   "cell_type": "code",
   "execution_count": 45,
   "id": "21d1e8d8-d494-4986-9c63-cee90489b787",
   "metadata": {
    "collapsed": true,
    "jupyter": {
     "outputs_hidden": true
    },
    "scrolled": true
   },
   "outputs": [
    {
     "name": "stdout",
     "output_type": "stream",
     "text": [
      "Requirement already satisfied: setuptools in c:\\users\\meira\\anaconda3\\envs\\hug\\lib\\site-packages (67.8.0)\n",
      "Collecting setuptools\n",
      "  Using cached setuptools-68.0.0-py3-none-any.whl (804 kB)\n",
      "Requirement already satisfied: wheel in c:\\users\\meira\\anaconda3\\envs\\hug\\lib\\site-packages (0.38.4)\n",
      "Collecting wheel\n",
      "  Using cached wheel-0.40.0-py3-none-any.whl (64 kB)\n",
      "Installing collected packages: wheel, setuptools\n",
      "  Attempting uninstall: wheel\n",
      "    Found existing installation: wheel 0.38.4\n",
      "    Uninstalling wheel-0.38.4:\n",
      "      Successfully uninstalled wheel-0.38.4\n",
      "  Attempting uninstall: setuptools\n",
      "    Found existing installation: setuptools 67.8.0\n",
      "    Uninstalling setuptools-67.8.0:\n",
      "      Successfully uninstalled setuptools-67.8.0\n",
      "Successfully installed setuptools-68.0.0 wheel-0.40.0\n"
     ]
    }
   ],
   "source": [
    "#!conda install -c conda-forge jq"
   ]
  },
  {
   "cell_type": "code",
   "execution_count": 3,
   "id": "fd278cab-b050-4100-a603-df0b7406a4fb",
   "metadata": {},
   "outputs": [
    {
     "ename": "ImportError",
     "evalue": "jq package not found, please install it with `pip install jq`",
     "output_type": "error",
     "traceback": [
      "\u001b[1;31m---------------------------------------------------------------------------\u001b[0m",
      "\u001b[1;31mModuleNotFoundError\u001b[0m                       Traceback (most recent call last)",
      "File \u001b[1;32m~\\anaconda3\\envs\\hug\\lib\\site-packages\\langchain\\document_loaders\\json_loader.py:45\u001b[0m, in \u001b[0;36mJSONLoader.__init__\u001b[1;34m(self, file_path, jq_schema, content_key, metadata_func, text_content, json_lines)\u001b[0m\n\u001b[0;32m     44\u001b[0m \u001b[38;5;28;01mtry\u001b[39;00m:\n\u001b[1;32m---> 45\u001b[0m     \u001b[38;5;28;01mimport\u001b[39;00m \u001b[38;5;21;01mjq\u001b[39;00m  \u001b[38;5;66;03m# noqa:F401\u001b[39;00m\n\u001b[0;32m     46\u001b[0m \u001b[38;5;28;01mexcept\u001b[39;00m \u001b[38;5;167;01mImportError\u001b[39;00m:\n",
      "\u001b[1;31mModuleNotFoundError\u001b[0m: No module named 'jq'",
      "\nDuring handling of the above exception, another exception occurred:\n",
      "\u001b[1;31mImportError\u001b[0m                               Traceback (most recent call last)",
      "Cell \u001b[1;32mIn[3], line 7\u001b[0m\n\u001b[0;32m      4\u001b[0m chunk_size \u001b[38;5;241m=\u001b[39m \u001b[38;5;241m500\u001b[39m\n\u001b[0;32m      5\u001b[0m chunk_overlap \u001b[38;5;241m=\u001b[39m \u001b[38;5;241m50\u001b[39m\n\u001b[1;32m----> 7\u001b[0m loader \u001b[38;5;241m=\u001b[39m \u001b[43mJSONLoader\u001b[49m\u001b[43m(\u001b[49m\n\u001b[0;32m      8\u001b[0m \u001b[43m    \u001b[49m\u001b[43mfile_path\u001b[49m\u001b[38;5;241;43m=\u001b[39;49m\u001b[38;5;124;43m'\u001b[39;49m\u001b[38;5;124;43m./data/data_sample.json\u001b[39;49m\u001b[38;5;124;43m'\u001b[39;49m\u001b[43m,\u001b[49m\n\u001b[0;32m      9\u001b[0m \u001b[43m    \u001b[49m\u001b[43mjq_schema\u001b[49m\u001b[38;5;241;43m=\u001b[39;49m\u001b[38;5;124;43m'\u001b[39;49m\u001b[38;5;124;43m.summary\u001b[39;49m\u001b[38;5;124;43m'\u001b[39;49m\u001b[43m)\u001b[49m\n\u001b[0;32m     11\u001b[0m data \u001b[38;5;241m=\u001b[39m loader\u001b[38;5;241m.\u001b[39mload()\n\u001b[0;32m     12\u001b[0m data\n",
      "File \u001b[1;32m~\\anaconda3\\envs\\hug\\lib\\site-packages\\langchain\\document_loaders\\json_loader.py:47\u001b[0m, in \u001b[0;36mJSONLoader.__init__\u001b[1;34m(self, file_path, jq_schema, content_key, metadata_func, text_content, json_lines)\u001b[0m\n\u001b[0;32m     45\u001b[0m     \u001b[38;5;28;01mimport\u001b[39;00m \u001b[38;5;21;01mjq\u001b[39;00m  \u001b[38;5;66;03m# noqa:F401\u001b[39;00m\n\u001b[0;32m     46\u001b[0m \u001b[38;5;28;01mexcept\u001b[39;00m \u001b[38;5;167;01mImportError\u001b[39;00m:\n\u001b[1;32m---> 47\u001b[0m     \u001b[38;5;28;01mraise\u001b[39;00m \u001b[38;5;167;01mImportError\u001b[39;00m(\n\u001b[0;32m     48\u001b[0m         \u001b[38;5;124m\"\u001b[39m\u001b[38;5;124mjq package not found, please install it with `pip install jq`\u001b[39m\u001b[38;5;124m\"\u001b[39m\n\u001b[0;32m     49\u001b[0m     )\n\u001b[0;32m     51\u001b[0m \u001b[38;5;28mself\u001b[39m\u001b[38;5;241m.\u001b[39mfile_path \u001b[38;5;241m=\u001b[39m Path(file_path)\u001b[38;5;241m.\u001b[39mresolve()\n\u001b[0;32m     52\u001b[0m \u001b[38;5;28mself\u001b[39m\u001b[38;5;241m.\u001b[39m_jq_schema \u001b[38;5;241m=\u001b[39m jq\u001b[38;5;241m.\u001b[39mcompile(jq_schema)\n",
      "\u001b[1;31mImportError\u001b[0m: jq package not found, please install it with `pip install jq`"
     ]
    }
   ],
   "source": [
    "from langchain.document_loaders import JSONLoader\n",
    "from langchain.text_splitter import RecursiveCharacterTextSplitter\n",
    "\n",
    "chunk_size = 500\n",
    "chunk_overlap = 50\n",
    "\n",
    "loader = JSONLoader(\n",
    "    file_path='./data/data_sample.json',\n",
    "    jq_schema='.summary')\n",
    "\n",
    "data = loader.load()\n",
    "data"
   ]
  },
  {
   "cell_type": "code",
   "execution_count": null,
   "id": "7306f3e9-b5e8-4073-b166-d7fe42ac5760",
   "metadata": {},
   "outputs": [],
   "source": [
    "text_splitter = RecursiveCharacterTextSplitter(chunk_size=chunk_size, chunk_overlap=chunk_overlap)\n",
    "texts = text_splitter.split_documents(json_files)\n",
    "\n",
    "texts = split_json_files_in_folder(folder_path)\n",
    "print(f\"Split into {len(texts)} chunks of text (max. {chunk_size} tokens each)\")"
   ]
  }
 ],
 "metadata": {
  "kernelspec": {
   "display_name": "Python 3 (ipykernel)",
   "language": "python",
   "name": "python3"
  },
  "language_info": {
   "codemirror_mode": {
    "name": "ipython",
    "version": 3
   },
   "file_extension": ".py",
   "mimetype": "text/x-python",
   "name": "python",
   "nbconvert_exporter": "python",
   "pygments_lexer": "ipython3",
   "version": "3.10.12"
  }
 },
 "nbformat": 4,
 "nbformat_minor": 5
}
